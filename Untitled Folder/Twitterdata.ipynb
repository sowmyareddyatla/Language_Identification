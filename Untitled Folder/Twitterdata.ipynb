{
 "cells": [
  {
   "cell_type": "code",
   "execution_count": 1,
   "metadata": {},
   "outputs": [],
   "source": [
    "import snscrape.modules.twitter as sntwitter\n",
    "import pandas as pd"
   ]
  },
  {
   "cell_type": "code",
   "execution_count": 7,
   "metadata": {},
   "outputs": [],
   "source": [
    "def getLanguageTweets(scrape_text):\n",
    "    tweets_list=[]\n",
    "    for i,tweet in enumerate(sntwitter.TwitterSearchScraper(scrape_text).get_items()):\n",
    "        if i>4000:\n",
    "            break\n",
    "        tweets_list.append([tweet.date, tweet.id, tweet.content, tweet.user.username, tweet.lang])\n",
    "\n",
    "    tweets_data = pd.DataFrame(tweets_list, columns=['Datetime', 'Tweet Id', 'Text', 'Username', 'lang'])\n",
    "    return tweets_data"
   ]
  },
  {
   "cell_type": "code",
   "execution_count": 8,
   "metadata": {},
   "outputs": [],
   "source": [
    "english_df  = getLanguageTweets('covid19 lang:en since:2020-06-01 until:2020-06-10')\n",
    "spanish_df  = getLanguageTweets('covid19 lang:es since:2020-06-01 until:2020-06-10')\n",
    "french_df   = getLanguageTweets('covid19 lang:fr since:2020-06-01 until:2020-06-10')\n",
    "german_df   = getLanguageTweets('covid19 lang:de since:2020-06-01 until:2020-06-10')\n",
    "hindi_df    = getLanguageTweets('covid19 lang:hi since:2020-06-01 until:2020-06-10')\n",
    "chinese_df  = getLanguageTweets('covid19 lang:zh-cn since:2020-06-01 until:2020-07-10')\n",
    "japanese_df = getLanguageTweets('covid19 lang:ja since:2020-06-01 until:2020-06-10')"
   ]
  },
  {
   "cell_type": "code",
   "execution_count": 29,
   "metadata": {},
   "outputs": [
    {
     "data": {
      "text/html": [
       "<div>\n",
       "<style scoped>\n",
       "    .dataframe tbody tr th:only-of-type {\n",
       "        vertical-align: middle;\n",
       "    }\n",
       "\n",
       "    .dataframe tbody tr th {\n",
       "        vertical-align: top;\n",
       "    }\n",
       "\n",
       "    .dataframe thead th {\n",
       "        text-align: right;\n",
       "    }\n",
       "</style>\n",
       "<table border=\"1\" class=\"dataframe\">\n",
       "  <thead>\n",
       "    <tr style=\"text-align: right;\">\n",
       "      <th></th>\n",
       "      <th>Text</th>\n",
       "      <th>lang</th>\n",
       "    </tr>\n",
       "  </thead>\n",
       "  <tbody>\n",
       "    <tr>\n",
       "      <th>0</th>\n",
       "      <td>如果您要出门远行，在旅途中请采取必要的措施来确保您和他人不被新型冠状病毒 #COVID19 ...</td>\n",
       "      <td>zh</td>\n",
       "    </tr>\n",
       "    <tr>\n",
       "      <th>1</th>\n",
       "      <td>如果您要出門遠行，在旅途中請採取必要的措施來確保您和他人不被新型冠狀病毒 #COVID19 ...</td>\n",
       "      <td>zh</td>\n",
       "    </tr>\n",
       "    <tr>\n",
       "      <th>2</th>\n",
       "      <td>沒有人會由於新型冠狀病毒疫情 #COVID19 而挨餓.\\n\\n我州將 CARES 法案基金...</td>\n",
       "      <td>zh</td>\n",
       "    </tr>\n",
       "    <tr>\n",
       "      <th>3</th>\n",
       "      <td>没有人会由于新型冠状病毒疫情 #COVID19 而挨饿.\\n\\n我州将 CARES 法案基金...</td>\n",
       "      <td>zh</td>\n",
       "    </tr>\n",
       "    <tr>\n",
       "      <th>4</th>\n",
       "      <td>@Covid19_preps @ignorant_red 合租买早期预警雷达和卫星吧，再进一...</td>\n",
       "      <td>zh</td>\n",
       "    </tr>\n",
       "  </tbody>\n",
       "</table>\n",
       "</div>"
      ],
      "text/plain": [
       "                                                Text lang\n",
       "0  如果您要出门远行，在旅途中请采取必要的措施来确保您和他人不被新型冠状病毒 #COVID19 ...   zh\n",
       "1  如果您要出門遠行，在旅途中請採取必要的措施來確保您和他人不被新型冠狀病毒 #COVID19 ...   zh\n",
       "2  沒有人會由於新型冠狀病毒疫情 #COVID19 而挨餓.\\n\\n我州將 CARES 法案基金...   zh\n",
       "3  没有人会由于新型冠状病毒疫情 #COVID19 而挨饿.\\n\\n我州将 CARES 法案基金...   zh\n",
       "4  @Covid19_preps @ignorant_red 合租买早期预警雷达和卫星吧，再进一...   zh"
      ]
     },
     "execution_count": 29,
     "metadata": {},
     "output_type": "execute_result"
    }
   ],
   "source": [
    "chinese_df[['Text','lang']].head()"
   ]
  },
  {
   "cell_type": "code",
   "execution_count": null,
   "metadata": {},
   "outputs": [],
   "source": []
  }
 ],
 "metadata": {
  "kernelspec": {
   "display_name": "Python 3",
   "language": "python",
   "name": "python3"
  },
  "language_info": {
   "codemirror_mode": {
    "name": "ipython",
    "version": 3
   },
   "file_extension": ".py",
   "mimetype": "text/x-python",
   "name": "python",
   "nbconvert_exporter": "python",
   "pygments_lexer": "ipython3",
   "version": "3.8.5"
  }
 },
 "nbformat": 4,
 "nbformat_minor": 4
}
