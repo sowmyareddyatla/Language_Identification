{
 "cells": [
  {
   "cell_type": "code",
   "execution_count": 3,
   "metadata": {
    "scrolled": true
   },
   "outputs": [
    {
     "name": "stdout",
     "output_type": "stream",
     "text": [
      "importing Jupyter notebook from preprocessing.ipynb\n",
      "importing Jupyter notebook from Twitterdata.ipynb\n",
      "! \" # $ % & ' ( ) * + , - . / : ; < = > ? @ [ \\ ] ^ _ ` { | } ~ "
     ]
    }
   ],
   "source": [
    "import import_ipynb\n",
    "import preprocessing as pr"
   ]
  },
  {
   "cell_type": "code",
   "execution_count": 5,
   "metadata": {},
   "outputs": [
    {
     "name": "stdout",
     "output_type": "stream",
     "text": [
      "(19604, 2)\n",
      "(8403, 2)\n"
     ]
    }
   ],
   "source": [
    "# Split the data into 70:30 ratio for train and test\n",
    "import pandas as pd\n",
    "from sklearn.model_selection import train_test_split\n",
    "train, test = train_test_split(pr.df_data, test_size=0.3, random_state=42, shuffle=True)\n",
    "train_df = pd.DataFrame(train)\n",
    "test_df  = pd.DataFrame(test)\n",
    "print(train_df.shape)\n",
    "print(test_df.shape)"
   ]
  },
  {
   "cell_type": "code",
   "execution_count": 47,
   "metadata": {},
   "outputs": [
    {
     "data": {
      "text/plain": [
       "Pipeline(steps=[('Vectorizer',\n",
       "                 TfidfVectorizer(analyzer='char', ngram_range=(1, 3))),\n",
       "                ('clf', RandomForestClassifier())])"
      ]
     },
     "execution_count": 47,
     "metadata": {},
     "output_type": "execute_result"
    }
   ],
   "source": [
    "from sklearn.feature_extraction.text import TfidfVectorizer\n",
    "from sklearn.linear_model import LogisticRegression\n",
    "from sklearn.ensemble import RandomForestClassifier\n",
    "\n",
    "from sklearn.pipeline import Pipeline\n",
    "\n",
    "x=train_df.iloc[:,0]\n",
    "y=train_df.iloc[:,1]\n",
    "vectorizer = TfidfVectorizer(ngram_range = (1,3), analyzer = 'char')\n",
    "#pipe_line  = Pipeline([('Vectorizer', vectorizer),('clf',LogisticRegression())]) \n",
    "pipe_line_rfc  = Pipeline([('Vectorizer', vectorizer),('clf',RandomForestClassifier())]) \n",
    "\n",
    "pipe_line_rfc.fit(x,y)\n"
   ]
  },
  {
   "cell_type": "code",
   "execution_count": 48,
   "metadata": {},
   "outputs": [
    {
     "name": "stdout",
     "output_type": "stream",
     "text": [
      "Language  English  French  German  Hindi  Japanese  Spanish  chinese\n",
      "row_0                                                               \n",
      "English      1204      18      24      0         0        5        0\n",
      "French          0    1175       2      0         0        3        0\n",
      "German          0       2    1154      0         0        0        0\n",
      "Hindi           0       0       0   1187         4        0       10\n",
      "Japanese        0       0       0      0      1195        0        2\n",
      "Spanish         6       3       2      0         0     1191        0\n",
      "chinese         0       0       0      0         7        0     1209\n"
     ]
    }
   ],
   "source": [
    "import matplotlib.pyplot as plt\n",
    "from sklearn.metrics import confusion_matrix,ConfusionMatrixDisplay\n",
    "\n",
    "y_predicted = pipe_line_rfc.predict(test_df.iloc[:,0])\n",
    "#matrix = confusion_matrix(test_df.iloc[:,1], y_predicted)\n",
    "#disp = ConfusionMatrixDisplay(confusion_matrix=matrix,labels = [\"English\",\"French\",\"German\",\"Hindi\",\"Japanese\",\"Spanish\",\"chinese\"] )\n",
    "#disp.plot()\n",
    "crosstab_result = pd.crosstab(y_predicted,test_df.iloc[:,1])\n",
    "print(crosstab_result)"
   ]
  },
  {
   "cell_type": "code",
   "execution_count": 40,
   "metadata": {},
   "outputs": [],
   "source": [
    "#print(matrix)\n",
    "#language_list =[\"English\",\"German\",\"Japanese\",\"Spanish\",\"French\",\"Chinese\",\"Hindi\"]\n",
    "#result_df = pd.DataFrame(matrix)\n",
    "#result_df.columns = [\"English\",\"German\",\"Japanese\",\"Spanish\",\"French\",\"Chinese\",\"Hindi\"]\n",
    "#result_df.index = [\"English\",\"German\",\"Japanese\",\"Spanish\",\"French\",\"Chinese\",\"Hindi\"]"
   ]
  },
  {
   "cell_type": "code",
   "execution_count": 46,
   "metadata": {},
   "outputs": [
    {
     "data": {
      "text/html": [
       "<style  type=\"text/css\" >\n",
       "#T_ad00a157_aa97_11eb_ae61_eb2ad33b8580row0_col0,#T_ad00a157_aa97_11eb_ae61_eb2ad33b8580row1_col1,#T_ad00a157_aa97_11eb_ae61_eb2ad33b8580row2_col2,#T_ad00a157_aa97_11eb_ae61_eb2ad33b8580row3_col3,#T_ad00a157_aa97_11eb_ae61_eb2ad33b8580row4_col4,#T_ad00a157_aa97_11eb_ae61_eb2ad33b8580row5_col5,#T_ad00a157_aa97_11eb_ae61_eb2ad33b8580row6_col6{\n",
       "            background-color:  #08306b;\n",
       "            color:  #f1f1f1;\n",
       "        }#T_ad00a157_aa97_11eb_ae61_eb2ad33b8580row0_col1,#T_ad00a157_aa97_11eb_ae61_eb2ad33b8580row0_col2,#T_ad00a157_aa97_11eb_ae61_eb2ad33b8580row0_col3,#T_ad00a157_aa97_11eb_ae61_eb2ad33b8580row0_col4,#T_ad00a157_aa97_11eb_ae61_eb2ad33b8580row0_col5,#T_ad00a157_aa97_11eb_ae61_eb2ad33b8580row0_col6,#T_ad00a157_aa97_11eb_ae61_eb2ad33b8580row1_col2,#T_ad00a157_aa97_11eb_ae61_eb2ad33b8580row1_col3,#T_ad00a157_aa97_11eb_ae61_eb2ad33b8580row1_col4,#T_ad00a157_aa97_11eb_ae61_eb2ad33b8580row1_col5,#T_ad00a157_aa97_11eb_ae61_eb2ad33b8580row1_col6,#T_ad00a157_aa97_11eb_ae61_eb2ad33b8580row2_col1,#T_ad00a157_aa97_11eb_ae61_eb2ad33b8580row2_col3,#T_ad00a157_aa97_11eb_ae61_eb2ad33b8580row2_col4,#T_ad00a157_aa97_11eb_ae61_eb2ad33b8580row2_col5,#T_ad00a157_aa97_11eb_ae61_eb2ad33b8580row2_col6,#T_ad00a157_aa97_11eb_ae61_eb2ad33b8580row3_col0,#T_ad00a157_aa97_11eb_ae61_eb2ad33b8580row3_col1,#T_ad00a157_aa97_11eb_ae61_eb2ad33b8580row3_col2,#T_ad00a157_aa97_11eb_ae61_eb2ad33b8580row3_col4,#T_ad00a157_aa97_11eb_ae61_eb2ad33b8580row3_col5,#T_ad00a157_aa97_11eb_ae61_eb2ad33b8580row4_col0,#T_ad00a157_aa97_11eb_ae61_eb2ad33b8580row4_col1,#T_ad00a157_aa97_11eb_ae61_eb2ad33b8580row4_col2,#T_ad00a157_aa97_11eb_ae61_eb2ad33b8580row4_col3,#T_ad00a157_aa97_11eb_ae61_eb2ad33b8580row4_col5,#T_ad00a157_aa97_11eb_ae61_eb2ad33b8580row5_col0,#T_ad00a157_aa97_11eb_ae61_eb2ad33b8580row5_col1,#T_ad00a157_aa97_11eb_ae61_eb2ad33b8580row5_col2,#T_ad00a157_aa97_11eb_ae61_eb2ad33b8580row5_col3,#T_ad00a157_aa97_11eb_ae61_eb2ad33b8580row5_col4,#T_ad00a157_aa97_11eb_ae61_eb2ad33b8580row5_col6,#T_ad00a157_aa97_11eb_ae61_eb2ad33b8580row6_col0,#T_ad00a157_aa97_11eb_ae61_eb2ad33b8580row6_col1,#T_ad00a157_aa97_11eb_ae61_eb2ad33b8580row6_col2,#T_ad00a157_aa97_11eb_ae61_eb2ad33b8580row6_col3,#T_ad00a157_aa97_11eb_ae61_eb2ad33b8580row6_col4,#T_ad00a157_aa97_11eb_ae61_eb2ad33b8580row6_col5{\n",
       "            background-color:  #f7fbff;\n",
       "            color:  #000000;\n",
       "        }#T_ad00a157_aa97_11eb_ae61_eb2ad33b8580row1_col0,#T_ad00a157_aa97_11eb_ae61_eb2ad33b8580row4_col6{\n",
       "            background-color:  #f5f9fe;\n",
       "            color:  #000000;\n",
       "        }#T_ad00a157_aa97_11eb_ae61_eb2ad33b8580row2_col0{\n",
       "            background-color:  #f4f9fe;\n",
       "            color:  #000000;\n",
       "        }#T_ad00a157_aa97_11eb_ae61_eb2ad33b8580row3_col6{\n",
       "            background-color:  #f6faff;\n",
       "            color:  #000000;\n",
       "        }</style><table id=\"T_ad00a157_aa97_11eb_ae61_eb2ad33b8580\" ><thead>    <tr>        <th class=\"blank level0\" ></th>        <th class=\"col_heading level0 col0\" >English</th>        <th class=\"col_heading level0 col1\" >German</th>        <th class=\"col_heading level0 col2\" >Japanese</th>        <th class=\"col_heading level0 col3\" >Spanish</th>        <th class=\"col_heading level0 col4\" >French</th>        <th class=\"col_heading level0 col5\" >Chinese</th>        <th class=\"col_heading level0 col6\" >Hindi</th>    </tr></thead><tbody>\n",
       "                <tr>\n",
       "                        <th id=\"T_ad00a157_aa97_11eb_ae61_eb2ad33b8580level0_row0\" class=\"row_heading level0 row0\" >English</th>\n",
       "                        <td id=\"T_ad00a157_aa97_11eb_ae61_eb2ad33b8580row0_col0\" class=\"data row0 col0\" >1202</td>\n",
       "                        <td id=\"T_ad00a157_aa97_11eb_ae61_eb2ad33b8580row0_col1\" class=\"data row0 col1\" >1</td>\n",
       "                        <td id=\"T_ad00a157_aa97_11eb_ae61_eb2ad33b8580row0_col2\" class=\"data row0 col2\" >2</td>\n",
       "                        <td id=\"T_ad00a157_aa97_11eb_ae61_eb2ad33b8580row0_col3\" class=\"data row0 col3\" >0</td>\n",
       "                        <td id=\"T_ad00a157_aa97_11eb_ae61_eb2ad33b8580row0_col4\" class=\"data row0 col4\" >0</td>\n",
       "                        <td id=\"T_ad00a157_aa97_11eb_ae61_eb2ad33b8580row0_col5\" class=\"data row0 col5\" >4</td>\n",
       "                        <td id=\"T_ad00a157_aa97_11eb_ae61_eb2ad33b8580row0_col6\" class=\"data row0 col6\" >1</td>\n",
       "            </tr>\n",
       "            <tr>\n",
       "                        <th id=\"T_ad00a157_aa97_11eb_ae61_eb2ad33b8580level0_row1\" class=\"row_heading level0 row1\" >German</th>\n",
       "                        <td id=\"T_ad00a157_aa97_11eb_ae61_eb2ad33b8580row1_col0\" class=\"data row1 col0\" >16</td>\n",
       "                        <td id=\"T_ad00a157_aa97_11eb_ae61_eb2ad33b8580row1_col1\" class=\"data row1 col1\" >1179</td>\n",
       "                        <td id=\"T_ad00a157_aa97_11eb_ae61_eb2ad33b8580row1_col2\" class=\"data row1 col2\" >1</td>\n",
       "                        <td id=\"T_ad00a157_aa97_11eb_ae61_eb2ad33b8580row1_col3\" class=\"data row1 col3\" >0</td>\n",
       "                        <td id=\"T_ad00a157_aa97_11eb_ae61_eb2ad33b8580row1_col4\" class=\"data row1 col4\" >0</td>\n",
       "                        <td id=\"T_ad00a157_aa97_11eb_ae61_eb2ad33b8580row1_col5\" class=\"data row1 col5\" >2</td>\n",
       "                        <td id=\"T_ad00a157_aa97_11eb_ae61_eb2ad33b8580row1_col6\" class=\"data row1 col6\" >0</td>\n",
       "            </tr>\n",
       "            <tr>\n",
       "                        <th id=\"T_ad00a157_aa97_11eb_ae61_eb2ad33b8580level0_row2\" class=\"row_heading level0 row2\" >Japanese</th>\n",
       "                        <td id=\"T_ad00a157_aa97_11eb_ae61_eb2ad33b8580row2_col0\" class=\"data row2 col0\" >20</td>\n",
       "                        <td id=\"T_ad00a157_aa97_11eb_ae61_eb2ad33b8580row2_col1\" class=\"data row2 col1\" >3</td>\n",
       "                        <td id=\"T_ad00a157_aa97_11eb_ae61_eb2ad33b8580row2_col2\" class=\"data row2 col2\" >1156</td>\n",
       "                        <td id=\"T_ad00a157_aa97_11eb_ae61_eb2ad33b8580row2_col3\" class=\"data row2 col3\" >0</td>\n",
       "                        <td id=\"T_ad00a157_aa97_11eb_ae61_eb2ad33b8580row2_col4\" class=\"data row2 col4\" >0</td>\n",
       "                        <td id=\"T_ad00a157_aa97_11eb_ae61_eb2ad33b8580row2_col5\" class=\"data row2 col5\" >3</td>\n",
       "                        <td id=\"T_ad00a157_aa97_11eb_ae61_eb2ad33b8580row2_col6\" class=\"data row2 col6\" >0</td>\n",
       "            </tr>\n",
       "            <tr>\n",
       "                        <th id=\"T_ad00a157_aa97_11eb_ae61_eb2ad33b8580level0_row3\" class=\"row_heading level0 row3\" >Spanish</th>\n",
       "                        <td id=\"T_ad00a157_aa97_11eb_ae61_eb2ad33b8580row3_col0\" class=\"data row3 col0\" >0</td>\n",
       "                        <td id=\"T_ad00a157_aa97_11eb_ae61_eb2ad33b8580row3_col1\" class=\"data row3 col1\" >0</td>\n",
       "                        <td id=\"T_ad00a157_aa97_11eb_ae61_eb2ad33b8580row3_col2\" class=\"data row3 col2\" >0</td>\n",
       "                        <td id=\"T_ad00a157_aa97_11eb_ae61_eb2ad33b8580row3_col3\" class=\"data row3 col3\" >1179</td>\n",
       "                        <td id=\"T_ad00a157_aa97_11eb_ae61_eb2ad33b8580row3_col4\" class=\"data row3 col4\" >0</td>\n",
       "                        <td id=\"T_ad00a157_aa97_11eb_ae61_eb2ad33b8580row3_col5\" class=\"data row3 col5\" >0</td>\n",
       "                        <td id=\"T_ad00a157_aa97_11eb_ae61_eb2ad33b8580row3_col6\" class=\"data row3 col6\" >8</td>\n",
       "            </tr>\n",
       "            <tr>\n",
       "                        <th id=\"T_ad00a157_aa97_11eb_ae61_eb2ad33b8580level0_row4\" class=\"row_heading level0 row4\" >French</th>\n",
       "                        <td id=\"T_ad00a157_aa97_11eb_ae61_eb2ad33b8580row4_col0\" class=\"data row4 col0\" >0</td>\n",
       "                        <td id=\"T_ad00a157_aa97_11eb_ae61_eb2ad33b8580row4_col1\" class=\"data row4 col1\" >0</td>\n",
       "                        <td id=\"T_ad00a157_aa97_11eb_ae61_eb2ad33b8580row4_col2\" class=\"data row4 col2\" >0</td>\n",
       "                        <td id=\"T_ad00a157_aa97_11eb_ae61_eb2ad33b8580row4_col3\" class=\"data row4 col3\" >0</td>\n",
       "                        <td id=\"T_ad00a157_aa97_11eb_ae61_eb2ad33b8580row4_col4\" class=\"data row4 col4\" >1191</td>\n",
       "                        <td id=\"T_ad00a157_aa97_11eb_ae61_eb2ad33b8580row4_col5\" class=\"data row4 col5\" >0</td>\n",
       "                        <td id=\"T_ad00a157_aa97_11eb_ae61_eb2ad33b8580row4_col6\" class=\"data row4 col6\" >15</td>\n",
       "            </tr>\n",
       "            <tr>\n",
       "                        <th id=\"T_ad00a157_aa97_11eb_ae61_eb2ad33b8580level0_row5\" class=\"row_heading level0 row5\" >Chinese</th>\n",
       "                        <td id=\"T_ad00a157_aa97_11eb_ae61_eb2ad33b8580row5_col0\" class=\"data row5 col0\" >4</td>\n",
       "                        <td id=\"T_ad00a157_aa97_11eb_ae61_eb2ad33b8580row5_col1\" class=\"data row5 col1\" >1</td>\n",
       "                        <td id=\"T_ad00a157_aa97_11eb_ae61_eb2ad33b8580row5_col2\" class=\"data row5 col2\" >0</td>\n",
       "                        <td id=\"T_ad00a157_aa97_11eb_ae61_eb2ad33b8580row5_col3\" class=\"data row5 col3\" >0</td>\n",
       "                        <td id=\"T_ad00a157_aa97_11eb_ae61_eb2ad33b8580row5_col4\" class=\"data row5 col4\" >0</td>\n",
       "                        <td id=\"T_ad00a157_aa97_11eb_ae61_eb2ad33b8580row5_col5\" class=\"data row5 col5\" >1190</td>\n",
       "                        <td id=\"T_ad00a157_aa97_11eb_ae61_eb2ad33b8580row5_col6\" class=\"data row5 col6\" >4</td>\n",
       "            </tr>\n",
       "            <tr>\n",
       "                        <th id=\"T_ad00a157_aa97_11eb_ae61_eb2ad33b8580level0_row6\" class=\"row_heading level0 row6\" >Hindi</th>\n",
       "                        <td id=\"T_ad00a157_aa97_11eb_ae61_eb2ad33b8580row6_col0\" class=\"data row6 col0\" >0</td>\n",
       "                        <td id=\"T_ad00a157_aa97_11eb_ae61_eb2ad33b8580row6_col1\" class=\"data row6 col1\" >0</td>\n",
       "                        <td id=\"T_ad00a157_aa97_11eb_ae61_eb2ad33b8580row6_col2\" class=\"data row6 col2\" >0</td>\n",
       "                        <td id=\"T_ad00a157_aa97_11eb_ae61_eb2ad33b8580row6_col3\" class=\"data row6 col3\" >0</td>\n",
       "                        <td id=\"T_ad00a157_aa97_11eb_ae61_eb2ad33b8580row6_col4\" class=\"data row6 col4\" >2</td>\n",
       "                        <td id=\"T_ad00a157_aa97_11eb_ae61_eb2ad33b8580row6_col5\" class=\"data row6 col5\" >0</td>\n",
       "                        <td id=\"T_ad00a157_aa97_11eb_ae61_eb2ad33b8580row6_col6\" class=\"data row6 col6\" >1219</td>\n",
       "            </tr>\n",
       "    </tbody></table>"
      ],
      "text/plain": [
       "<pandas.io.formats.style.Styler at 0x2782ee17f40>"
      ]
     },
     "execution_count": 46,
     "metadata": {},
     "output_type": "execute_result"
    }
   ],
   "source": [
    "#import seaborn as sns\n",
    "#sns.heatmap(result_df, annot = True)\n",
    "#result_df.style.background_gradient(cmap='Blues')\n"
   ]
  },
  {
   "cell_type": "code",
   "execution_count": 52,
   "metadata": {},
   "outputs": [],
   "source": [
    "from sklearn.metrics import precision_score\n",
    "precision = precision_score(test_df.iloc[:,1], y_predicted, labels=[\"English\",\"French\",\"German\",\"Hindi\",\"Japanese\",\"Spanish\",\"chinese\"], average=None)\n"
   ]
  },
  {
   "cell_type": "code",
   "execution_count": 53,
   "metadata": {},
   "outputs": [
    {
     "name": "stdout",
     "output_type": "stream",
     "text": [
      "[0.96243006 0.99576271 0.9982699  0.98834305 0.99832916 0.99084859\n",
      " 0.99424342]\n"
     ]
    }
   ],
   "source": [
    "print(precision)"
   ]
  },
  {
   "cell_type": "code",
   "execution_count": null,
   "metadata": {},
   "outputs": [],
   "source": []
  }
 ],
 "metadata": {
  "kernelspec": {
   "display_name": "Python 3",
   "language": "python",
   "name": "python3"
  },
  "language_info": {
   "codemirror_mode": {
    "name": "ipython",
    "version": 3
   },
   "file_extension": ".py",
   "mimetype": "text/x-python",
   "name": "python",
   "nbconvert_exporter": "python",
   "pygments_lexer": "ipython3",
   "version": "3.8.5"
  }
 },
 "nbformat": 4,
 "nbformat_minor": 4
}
