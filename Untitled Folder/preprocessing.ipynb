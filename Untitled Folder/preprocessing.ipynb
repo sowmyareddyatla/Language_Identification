{
 "cells": [
  {
   "cell_type": "code",
   "execution_count": 2,
   "metadata": {},
   "outputs": [
    {
     "name": "stdout",
     "output_type": "stream",
     "text": [
      "importing Jupyter notebook from Twitterdata.ipynb\n"
     ]
    }
   ],
   "source": [
    "import import_ipynb\n",
    "import Twitterdata as td\n",
    "import string\n",
    "import re\n",
    "import sys"
   ]
  },
  {
   "cell_type": "code",
   "execution_count": 6,
   "metadata": {},
   "outputs": [
    {
     "name": "stdout",
     "output_type": "stream",
     "text": [
      "! \" # $ % & ' ( ) * + , - . / : ; < = > ? @ [ \\ ] ^ _ ` { | } ~ "
     ]
    }
   ],
   "source": [
    "for char in string.punctuation:\n",
    "    print(char, end=\" \")\n",
    "translate_table = dict((ord(char), \"\") for char in string.punctuation)"
   ]
  },
  {
   "cell_type": "code",
   "execution_count": 3,
   "metadata": {},
   "outputs": [],
   "source": [
    "def remove_emoji(string):\n",
    "    emoji_pattern = re.compile(\"[\"\n",
    "                               u\"\\U0001F600-\\U0001F64F\"  # emoticons\n",
    "                               u\"\\U0001F300-\\U0001F5FF\"  # symbols & pictographs\n",
    "                               u\"\\U0001F680-\\U0001F6FF\"  # transport & map symbols\n",
    "                               \"\\U0001F700-\\U0001F77F\"  # alchemical symbols\n",
    "                               \"\\U0001F780-\\U0001F7FF\"  # Geometric Shapes Extended\n",
    "                               \"\\U0001F800-\\U0001F8FF\"  # Supplemental Arrows-C\n",
    "                               \"\\U0001F900-\\U0001F9FF\"  # Supplemental Symbols and Pictographs\n",
    "                               \"\\U0001FA00-\\U0001FA6F\"  # Chess Symbols\n",
    "                               \"\\U0001FA70-\\U0001FAFF\"  # Symbols and Pictographs Extended-A\n",
    "                               \"\\U0001F6A8\"\n",
    "                               u\"\\ufe0f\"  # dingbats\n",
    "                               u\"\\u3030\"\n",
    "                               \"]+\", flags=re.UNICODE)\n",
    "    return emoji_pattern.sub(r'', string)\n",
    "\n",
    "def remove_hyperlinks(stringliteral):\n",
    "    hyperlinks_remove = re.sub(r'http\\S+', '', stringliteral)\n",
    "    return hyperlinks_remove"
   ]
  },
  {
   "cell_type": "code",
   "execution_count": 8,
   "metadata": {},
   "outputs": [],
   "source": [
    "# Preprocessing for english language data\n",
    "data_eng =[]\n",
    "lang_eng =[]\n",
    "for i,line in td.english_df.iterrows():\n",
    "    line = line['Text']\n",
    "    if len(line) != 0:\n",
    "        line = line.lower()\n",
    "        line = re.sub(r'http\\S+', '', line)\n",
    "        line = re.sub(r\"\\d+\",\"\",line)\n",
    "        line = line.translate(translate_table)\n",
    "        line = remove_emoji(line)\n",
    "        data_eng.append(line)\n",
    "        lang_eng.append(\"English\")\n"
   ]
  },
  {
   "cell_type": "code",
   "execution_count": 10,
   "metadata": {},
   "outputs": [],
   "source": [
    "# Preprocessing for German language data\n",
    "data_de =[]\n",
    "lang_de =[]\n",
    "for i,line in td.german_df.iterrows():\n",
    "    line = line['Text']\n",
    "    if len(line) != 0:\n",
    "        line=line.lower()\n",
    "        line = re.sub(r'http\\S+', '', line)\n",
    "        line = re.sub(r\"\\d+\",\"\",line)\n",
    "        line = line.translate(translate_table)\n",
    "        line = remove_emoji(line)\n",
    "        data_de.append(line)\n",
    "        lang_de.append(\"German\")"
   ]
  },
  {
   "cell_type": "code",
   "execution_count": 12,
   "metadata": {},
   "outputs": [],
   "source": [
    "#Preprocessing for Spanish Language data\n",
    "data_es =[]\n",
    "lang_es= []\n",
    "for i,line in td.spanish_df.iterrows():\n",
    "    line = line['Text']\n",
    "    if len(line) != 0:\n",
    "        line=line.lower()\n",
    "        line = re.sub(r'http\\S+', '', line)\n",
    "        line = re.sub(r\"\\d+\",\"\",line)\n",
    "        line = line.translate(translate_table)\n",
    "        line = remove_emoji(line)\n",
    "        data_es.append(line)\n",
    "        lang_es.append(\"Spanish\")"
   ]
  },
  {
   "cell_type": "code",
   "execution_count": 13,
   "metadata": {},
   "outputs": [],
   "source": [
    "#Preprocessing for French Language data\n",
    "data_fr =[]\n",
    "lang_fr= []\n",
    "for i,line in td.french_df.iterrows():\n",
    "    line = line['Text']\n",
    "    if len(line) != 0:\n",
    "        line=line.lower()\n",
    "        line = re.sub(r'http\\S+', '', line)\n",
    "        line = re.sub(r\"\\d+\",\"\",line)\n",
    "        line = line.translate(translate_table)\n",
    "        line = remove_emoji(line)\n",
    "        data_fr.append(line)\n",
    "        lang_fr.append(\"French\")"
   ]
  },
  {
   "cell_type": "code",
   "execution_count": 14,
   "metadata": {},
   "outputs": [],
   "source": [
    "#Preprocessing for Hindi Language data\n",
    "data_hi =[]\n",
    "lang_hi= []\n",
    "for i,line in td.hindi_df.iterrows():\n",
    "    line = line['Text']\n",
    "    if len(line) != 0:\n",
    "        line = line.lower()\n",
    "        line = re.sub(r'http\\S+', '', line)\n",
    "        line = re.sub(r\"\\d+\",\"\",line)\n",
    "        line = re.sub(r\"[a-zA-Z]+\", \"\",line)\n",
    "        line = line.translate(translate_table)\n",
    "        line = remove_emoji(line)\n",
    "        data_hi.append(line)\n",
    "        lang_hi.append(\"Hindi\")"
   ]
  },
  {
   "cell_type": "code",
   "execution_count": 15,
   "metadata": {},
   "outputs": [],
   "source": [
    "#Preprocessing for Japanese Language data\n",
    "data_ja =[]\n",
    "lang_ja= []\n",
    "for i,line in td.japanese_df.iterrows():\n",
    "    line = line['Text']\n",
    "    if len(line) != 0:\n",
    "        line = line.lower()\n",
    "        line = re.sub(r'http\\S+', '', line)\n",
    "        line = re.sub(r\"\\d+\",\"\",line)\n",
    "        line = re.sub(r\"[a-zA-Z]+\", \"\",line)\n",
    "        line = line.translate(translate_table)\n",
    "        line = remove_emoji(line)\n",
    "        data_ja.append(line)\n",
    "        lang_ja.append(\"Japanese\")\n"
   ]
  },
  {
   "cell_type": "code",
   "execution_count": 16,
   "metadata": {},
   "outputs": [],
   "source": [
    "#Preprocessing for Chinese Language data\n",
    "data_zh =[]\n",
    "lang_zh= []\n",
    "for i,line in td.chinese_df.iterrows():\n",
    "    line = line['Text']\n",
    "    if len(line) != 0:\n",
    "        line = line.lower()\n",
    "        line = re.sub(r'http\\S+', '', line)\n",
    "        line = re.sub(r\"\\d+\",\"\",line)\n",
    "        line = re.sub(r\"[a-zA-Z]+\", \"\",line)\n",
    "        line = line.translate(translate_table)\n",
    "        line = remove_emoji(line)\n",
    "    data_zh.append(line)\n",
    "    lang_zh.append(\"chinese\")"
   ]
  },
  {
   "cell_type": "code",
   "execution_count": 19,
   "metadata": {},
   "outputs": [],
   "source": [
    "import pandas as pd\n",
    "df_data = pd.DataFrame({\"Text\":data_eng+data_de+data_ja+data_es+data_fr+data_zh+data_hi, \"Language\":lang_eng+lang_de+lang_ja+lang_es+lang_fr+lang_zh+lang_hi})"
   ]
  },
  {
   "cell_type": "code",
   "execution_count": 20,
   "metadata": {},
   "outputs": [
    {
     "data": {
      "text/html": [
       "<div>\n",
       "<style scoped>\n",
       "    .dataframe tbody tr th:only-of-type {\n",
       "        vertical-align: middle;\n",
       "    }\n",
       "\n",
       "    .dataframe tbody tr th {\n",
       "        vertical-align: top;\n",
       "    }\n",
       "\n",
       "    .dataframe thead th {\n",
       "        text-align: right;\n",
       "    }\n",
       "</style>\n",
       "<table border=\"1\" class=\"dataframe\">\n",
       "  <thead>\n",
       "    <tr style=\"text-align: right;\">\n",
       "      <th></th>\n",
       "      <th>Text</th>\n",
       "      <th>Language</th>\n",
       "    </tr>\n",
       "  </thead>\n",
       "  <tbody>\n",
       "    <tr>\n",
       "      <th>0</th>\n",
       "      <td>host jeana goosmann and jeremy vokt discuss ho...</td>\n",
       "      <td>English</td>\n",
       "    </tr>\n",
       "    <tr>\n",
       "      <th>1</th>\n",
       "      <td>we visited the george floyd funeral in houston...</td>\n",
       "      <td>English</td>\n",
       "    </tr>\n",
       "    <tr>\n",
       "      <th>2</th>\n",
       "      <td>usa florida  thomas paladino  scalar light res...</td>\n",
       "      <td>English</td>\n",
       "    </tr>\n",
       "    <tr>\n",
       "      <th>3</th>\n",
       "      <td>very humbled to share this press release about...</td>\n",
       "      <td>English</td>\n",
       "    </tr>\n",
       "    <tr>\n",
       "      <th>4</th>\n",
       "      <td>pregnancy yoga exercises for the last trimest...</td>\n",
       "      <td>English</td>\n",
       "    </tr>\n",
       "  </tbody>\n",
       "</table>\n",
       "</div>"
      ],
      "text/plain": [
       "                                                Text Language\n",
       "0  host jeana goosmann and jeremy vokt discuss ho...  English\n",
       "1  we visited the george floyd funeral in houston...  English\n",
       "2  usa florida  thomas paladino  scalar light res...  English\n",
       "3  very humbled to share this press release about...  English\n",
       "4   pregnancy yoga exercises for the last trimest...  English"
      ]
     },
     "execution_count": 20,
     "metadata": {},
     "output_type": "execute_result"
    }
   ],
   "source": [
    "df_data.head()"
   ]
  },
  {
   "cell_type": "code",
   "execution_count": 21,
   "metadata": {},
   "outputs": [],
   "source": [
    "df_data.to_csv('preprocessed_lang_data.csv', sep=',', index=False)"
   ]
  },
  {
   "cell_type": "code",
   "execution_count": null,
   "metadata": {},
   "outputs": [],
   "source": []
  }
 ],
 "metadata": {
  "kernelspec": {
   "display_name": "Python 3",
   "language": "python",
   "name": "python3"
  },
  "language_info": {
   "codemirror_mode": {
    "name": "ipython",
    "version": 3
   },
   "file_extension": ".py",
   "mimetype": "text/x-python",
   "name": "python",
   "nbconvert_exporter": "python",
   "pygments_lexer": "ipython3",
   "version": "3.8.5"
  }
 },
 "nbformat": 4,
 "nbformat_minor": 4
}
