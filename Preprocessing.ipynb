{
 "cells": [
  {
   "cell_type": "code",
   "execution_count": 55,
   "id": "handmade-weather",
   "metadata": {},
   "outputs": [],
   "source": [
    "import pandas as pd\n",
    "import numpy as np"
   ]
  },
  {
   "cell_type": "code",
   "execution_count": 56,
   "id": "broken-johnston",
   "metadata": {},
   "outputs": [],
   "source": [
    "def load_data():\n",
    "    data = pd.read_csv('result.csv')\n",
    "    return data"
   ]
  },
  {
   "cell_type": "code",
   "execution_count": 57,
   "id": "careful-diversity",
   "metadata": {},
   "outputs": [
    {
     "data": {
      "text/html": [
       "<div>\n",
       "<style scoped>\n",
       "    .dataframe tbody tr th:only-of-type {\n",
       "        vertical-align: middle;\n",
       "    }\n",
       "\n",
       "    .dataframe tbody tr th {\n",
       "        vertical-align: top;\n",
       "    }\n",
       "\n",
       "    .dataframe thead th {\n",
       "        text-align: right;\n",
       "    }\n",
       "</style>\n",
       "<table border=\"1\" class=\"dataframe\">\n",
       "  <thead>\n",
       "    <tr style=\"text-align: right;\">\n",
       "      <th></th>\n",
       "      <th>UserId</th>\n",
       "      <th>TweetId</th>\n",
       "      <th>Tweet</th>\n",
       "    </tr>\n",
       "  </thead>\n",
       "  <tbody>\n",
       "    <tr>\n",
       "      <th>0</th>\n",
       "      <td>1.621131e+09</td>\n",
       "      <td>1.240000e+18</td>\n",
       "      <td>#NationalDoctorsDay couldn't come at a better time to unite and recognize the incredible health ...</td>\n",
       "    </tr>\n",
       "    <tr>\n",
       "      <th>1</th>\n",
       "      <td>7.075280e+07</td>\n",
       "      <td>1.240000e+18</td>\n",
       "      <td>https://t.co/6RsXnvyw9V La #Gente necesita 😷  #Desinfectantes, #Respiradores #FFP3, #Guantes de ...</td>\n",
       "    </tr>\n",
       "    <tr>\n",
       "      <th>2</th>\n",
       "      <td>1.240000e+18</td>\n",
       "      <td>1.240000e+18</td>\n",
       "      <td>日本の3月29日までのデータからのロジスティック曲線での感染者推移予測です！\\n\\n政策等の影響で大きく変化する可能性があります！現状のままだとという予測ですね！\\n\\n最新のハイレベルな予測...</td>\n",
       "    </tr>\n",
       "    <tr>\n",
       "      <th>3</th>\n",
       "      <td>NaN</td>\n",
       "      <td>NaN</td>\n",
       "      <td>NaN</td>\n",
       "    </tr>\n",
       "    <tr>\n",
       "      <th>4</th>\n",
       "      <td>7.660000e+17</td>\n",
       "      <td>1.240000e+18</td>\n",
       "      <td>#Covid_19 #COVID19 #GretaThunberg 's  #VisionOfFuture for Earth. #FridaysForFuture #FridaysForHu...</td>\n",
       "    </tr>\n",
       "  </tbody>\n",
       "</table>\n",
       "</div>"
      ],
      "text/plain": [
       "         UserId       TweetId  \\\n",
       "0  1.621131e+09  1.240000e+18   \n",
       "1  7.075280e+07  1.240000e+18   \n",
       "2  1.240000e+18  1.240000e+18   \n",
       "3           NaN           NaN   \n",
       "4  7.660000e+17  1.240000e+18   \n",
       "\n",
       "                                                                                                 Tweet  \n",
       "0  #NationalDoctorsDay couldn't come at a better time to unite and recognize the incredible health ...  \n",
       "1  https://t.co/6RsXnvyw9V La #Gente necesita 😷  #Desinfectantes, #Respiradores #FFP3, #Guantes de ...  \n",
       "2  日本の3月29日までのデータからのロジスティック曲線での感染者推移予測です！\\n\\n政策等の影響で大きく変化する可能性があります！現状のままだとという予測ですね！\\n\\n最新のハイレベルな予測...  \n",
       "3                                                                                                  NaN  \n",
       "4  #Covid_19 #COVID19 #GretaThunberg 's  #VisionOfFuture for Earth. #FridaysForFuture #FridaysForHu...  "
      ]
     },
     "execution_count": 57,
     "metadata": {},
     "output_type": "execute_result"
    }
   ],
   "source": [
    "tweet_df = load_data()\n",
    "tweet_df.head()"
   ]
  },
  {
   "cell_type": "code",
   "execution_count": 58,
   "id": "primary-singing",
   "metadata": {},
   "outputs": [],
   "source": [
    "tweet_df = tweet_df.dropna()"
   ]
  },
  {
   "cell_type": "code",
   "execution_count": 59,
   "id": "rising-stamp",
   "metadata": {},
   "outputs": [
    {
     "name": "stdout",
     "output_type": "stream",
     "text": [
      "Dataset size: (5, 3)\n",
      "Columns are: Index(['UserId', 'TweetId', 'Tweet'], dtype='object')\n"
     ]
    }
   ],
   "source": [
    "print('Dataset size:',tweet_df.shape)\n",
    "print('Columns are:',tweet_df.columns)"
   ]
  },
  {
   "cell_type": "code",
   "execution_count": 60,
   "id": "mature-equipment",
   "metadata": {},
   "outputs": [],
   "source": [
    "\n",
    "df  = pd.DataFrame(tweet_df[['UserId', 'Tweet']])\n"
   ]
  },
  {
   "cell_type": "code",
   "execution_count": 61,
   "id": "related-mississippi",
   "metadata": {},
   "outputs": [
    {
     "data": {
      "text/html": [
       "<div>\n",
       "<style scoped>\n",
       "    .dataframe tbody tr th:only-of-type {\n",
       "        vertical-align: middle;\n",
       "    }\n",
       "\n",
       "    .dataframe tbody tr th {\n",
       "        vertical-align: top;\n",
       "    }\n",
       "\n",
       "    .dataframe thead th {\n",
       "        text-align: right;\n",
       "    }\n",
       "</style>\n",
       "<table border=\"1\" class=\"dataframe\">\n",
       "  <thead>\n",
       "    <tr style=\"text-align: right;\">\n",
       "      <th></th>\n",
       "      <th>UserId</th>\n",
       "      <th>Tweet</th>\n",
       "      <th>Tweet_punct</th>\n",
       "    </tr>\n",
       "  </thead>\n",
       "  <tbody>\n",
       "    <tr>\n",
       "      <th>0</th>\n",
       "      <td>1.621131e+09</td>\n",
       "      <td>#NationalDoctorsDay couldn't come at a better time to unite and recognize the incredible health ...</td>\n",
       "      <td>NationalDoctorsDay couldnt come at a better time to unite and recognize the incredible health ca...</td>\n",
       "    </tr>\n",
       "    <tr>\n",
       "      <th>1</th>\n",
       "      <td>7.075280e+07</td>\n",
       "      <td>https://t.co/6RsXnvyw9V La #Gente necesita 😷  #Desinfectantes, #Respiradores #FFP3, #Guantes de ...</td>\n",
       "      <td>httpstcoRsXnvywV La Gente necesita 😷  Desinfectantes Respiradores FFP Guantes de Nitrilo Visores...</td>\n",
       "    </tr>\n",
       "    <tr>\n",
       "      <th>2</th>\n",
       "      <td>1.240000e+18</td>\n",
       "      <td>日本の3月29日までのデータからのロジスティック曲線での感染者推移予測です！\\n\\n政策等の影響で大きく変化する可能性があります！現状のままだとという予測ですね！\\n\\n最新のハイレベルな予測...</td>\n",
       "      <td>日本の月日までのデータからのロジスティック曲線での感染者推移予測です！nn政策等の影響で大きく変化する可能性があります！現状のままだとという予測ですね！nn最新のハイレベルな予測はいろんな研究...</td>\n",
       "    </tr>\n",
       "    <tr>\n",
       "      <th>4</th>\n",
       "      <td>7.660000e+17</td>\n",
       "      <td>#Covid_19 #COVID19 #GretaThunberg 's  #VisionOfFuture for Earth. #FridaysForFuture #FridaysForHu...</td>\n",
       "      <td>Covid COVID GretaThunberg s  VisionOfFuture for Earth FridaysForFuture FridaysForHubraum All at ...</td>\n",
       "    </tr>\n",
       "    <tr>\n",
       "      <th>5</th>\n",
       "      <td>3.316617e+09</td>\n",
       "      <td>#CNN stands for:\\nCommunist News Network\\n\\n#ChineseVirus \\n#COVID19 \\n#CommunistChina https://t...</td>\n",
       "      <td>CNN stands fornCommunist News NetworknnChineseVirus nCOVID nCommunistChina httpstcoImloRVCZR htt...</td>\n",
       "    </tr>\n",
       "  </tbody>\n",
       "</table>\n",
       "</div>"
      ],
      "text/plain": [
       "         UserId  \\\n",
       "0  1.621131e+09   \n",
       "1  7.075280e+07   \n",
       "2  1.240000e+18   \n",
       "4  7.660000e+17   \n",
       "5  3.316617e+09   \n",
       "\n",
       "                                                                                                 Tweet  \\\n",
       "0  #NationalDoctorsDay couldn't come at a better time to unite and recognize the incredible health ...   \n",
       "1  https://t.co/6RsXnvyw9V La #Gente necesita 😷  #Desinfectantes, #Respiradores #FFP3, #Guantes de ...   \n",
       "2  日本の3月29日までのデータからのロジスティック曲線での感染者推移予測です！\\n\\n政策等の影響で大きく変化する可能性があります！現状のままだとという予測ですね！\\n\\n最新のハイレベルな予測...   \n",
       "4  #Covid_19 #COVID19 #GretaThunberg 's  #VisionOfFuture for Earth. #FridaysForFuture #FridaysForHu...   \n",
       "5  #CNN stands for:\\nCommunist News Network\\n\\n#ChineseVirus \\n#COVID19 \\n#CommunistChina https://t...   \n",
       "\n",
       "                                                                                           Tweet_punct  \n",
       "0  NationalDoctorsDay couldnt come at a better time to unite and recognize the incredible health ca...  \n",
       "1  httpstcoRsXnvywV La Gente necesita 😷  Desinfectantes Respiradores FFP Guantes de Nitrilo Visores...  \n",
       "2  日本の月日までのデータからのロジスティック曲線での感染者推移予測です！nn政策等の影響で大きく変化する可能性があります！現状のままだとという予測ですね！nn最新のハイレベルな予測はいろんな研究...  \n",
       "4  Covid COVID GretaThunberg s  VisionOfFuture for Earth FridaysForFuture FridaysForHubraum All at ...  \n",
       "5  CNN stands fornCommunist News NetworknnChineseVirus nCOVID nCommunistChina httpstcoImloRVCZR htt...  "
      ]
     },
     "execution_count": 61,
     "metadata": {},
     "output_type": "execute_result"
    }
   ],
   "source": [
    "def remove_punct(text):\n",
    "    \n",
    "    text  = \"\".join([char for char in text if char not in string.punctuation])\n",
    "    text = re.sub('[0-9]+', '', text)\n",
    "    return text\n",
    "\n",
    "df['Tweet_punct'] = df['Tweet'].apply(lambda x: remove_punct(x))\n",
    "df.head(10)\n",
    "\n"
   ]
  },
  {
   "cell_type": "code",
   "execution_count": 62,
   "id": "discrete-reading",
   "metadata": {},
   "outputs": [
    {
     "data": {
      "text/html": [
       "<div>\n",
       "<style scoped>\n",
       "    .dataframe tbody tr th:only-of-type {\n",
       "        vertical-align: middle;\n",
       "    }\n",
       "\n",
       "    .dataframe tbody tr th {\n",
       "        vertical-align: top;\n",
       "    }\n",
       "\n",
       "    .dataframe thead th {\n",
       "        text-align: right;\n",
       "    }\n",
       "</style>\n",
       "<table border=\"1\" class=\"dataframe\">\n",
       "  <thead>\n",
       "    <tr style=\"text-align: right;\">\n",
       "      <th></th>\n",
       "      <th>UserId</th>\n",
       "      <th>Tweet</th>\n",
       "      <th>Tweet_punct</th>\n",
       "      <th>Tweet_tokenized</th>\n",
       "    </tr>\n",
       "  </thead>\n",
       "  <tbody>\n",
       "    <tr>\n",
       "      <th>0</th>\n",
       "      <td>1.621131e+09</td>\n",
       "      <td>#NationalDoctorsDay couldn't come at a better time to unite and recognize the incredible health ...</td>\n",
       "      <td>NationalDoctorsDay couldnt come at a better time to unite and recognize the incredible health ca...</td>\n",
       "      <td>[nationaldoctorsday, couldnt, come, at, a, better, time, to, unite, and, recognize, the, incredi...</td>\n",
       "    </tr>\n",
       "    <tr>\n",
       "      <th>1</th>\n",
       "      <td>7.075280e+07</td>\n",
       "      <td>https://t.co/6RsXnvyw9V La #Gente necesita 😷  #Desinfectantes, #Respiradores #FFP3, #Guantes de ...</td>\n",
       "      <td>httpstcoRsXnvywV La Gente necesita 😷  Desinfectantes Respiradores FFP Guantes de Nitrilo Visores...</td>\n",
       "      <td>[httpstcorsxnvywv, la, gente, necesita, desinfectantes, respiradores, ffp, guantes, de, nitrilo,...</td>\n",
       "    </tr>\n",
       "    <tr>\n",
       "      <th>2</th>\n",
       "      <td>1.240000e+18</td>\n",
       "      <td>日本の3月29日までのデータからのロジスティック曲線での感染者推移予測です！\\n\\n政策等の影響で大きく変化する可能性があります！現状のままだとという予測ですね！\\n\\n最新のハイレベルな予測...</td>\n",
       "      <td>日本の月日までのデータからのロジスティック曲線での感染者推移予測です！nn政策等の影響で大きく変化する可能性があります！現状のままだとという予測ですね！nn最新のハイレベルな予測はいろんな研究...</td>\n",
       "      <td>[日本の月日までのデータからのロジスティック曲線での感染者推移予測です, nn政策等の影響で大きく変化する可能性があります, 現状のままだとという予測ですね, nn最新のハイレベルな予測はいろ...</td>\n",
       "    </tr>\n",
       "    <tr>\n",
       "      <th>4</th>\n",
       "      <td>7.660000e+17</td>\n",
       "      <td>#Covid_19 #COVID19 #GretaThunberg 's  #VisionOfFuture for Earth. #FridaysForFuture #FridaysForHu...</td>\n",
       "      <td>Covid COVID GretaThunberg s  VisionOfFuture for Earth FridaysForFuture FridaysForHubraum All at ...</td>\n",
       "      <td>[covid, covid, gretathunberg, s, visionoffuture, for, earth, fridaysforfuture, fridaysforhubraum...</td>\n",
       "    </tr>\n",
       "    <tr>\n",
       "      <th>5</th>\n",
       "      <td>3.316617e+09</td>\n",
       "      <td>#CNN stands for:\\nCommunist News Network\\n\\n#ChineseVirus \\n#COVID19 \\n#CommunistChina https://t...</td>\n",
       "      <td>CNN stands fornCommunist News NetworknnChineseVirus nCOVID nCommunistChina httpstcoImloRVCZR htt...</td>\n",
       "      <td>[cnn, stands, forncommunist, news, networknnchinesevirus, ncovid, ncommunistchina, httpstcoimlor...</td>\n",
       "    </tr>\n",
       "  </tbody>\n",
       "</table>\n",
       "</div>"
      ],
      "text/plain": [
       "         UserId  \\\n",
       "0  1.621131e+09   \n",
       "1  7.075280e+07   \n",
       "2  1.240000e+18   \n",
       "4  7.660000e+17   \n",
       "5  3.316617e+09   \n",
       "\n",
       "                                                                                                 Tweet  \\\n",
       "0  #NationalDoctorsDay couldn't come at a better time to unite and recognize the incredible health ...   \n",
       "1  https://t.co/6RsXnvyw9V La #Gente necesita 😷  #Desinfectantes, #Respiradores #FFP3, #Guantes de ...   \n",
       "2  日本の3月29日までのデータからのロジスティック曲線での感染者推移予測です！\\n\\n政策等の影響で大きく変化する可能性があります！現状のままだとという予測ですね！\\n\\n最新のハイレベルな予測...   \n",
       "4  #Covid_19 #COVID19 #GretaThunberg 's  #VisionOfFuture for Earth. #FridaysForFuture #FridaysForHu...   \n",
       "5  #CNN stands for:\\nCommunist News Network\\n\\n#ChineseVirus \\n#COVID19 \\n#CommunistChina https://t...   \n",
       "\n",
       "                                                                                           Tweet_punct  \\\n",
       "0  NationalDoctorsDay couldnt come at a better time to unite and recognize the incredible health ca...   \n",
       "1  httpstcoRsXnvywV La Gente necesita 😷  Desinfectantes Respiradores FFP Guantes de Nitrilo Visores...   \n",
       "2  日本の月日までのデータからのロジスティック曲線での感染者推移予測です！nn政策等の影響で大きく変化する可能性があります！現状のままだとという予測ですね！nn最新のハイレベルな予測はいろんな研究...   \n",
       "4  Covid COVID GretaThunberg s  VisionOfFuture for Earth FridaysForFuture FridaysForHubraum All at ...   \n",
       "5  CNN stands fornCommunist News NetworknnChineseVirus nCOVID nCommunistChina httpstcoImloRVCZR htt...   \n",
       "\n",
       "                                                                                       Tweet_tokenized  \n",
       "0  [nationaldoctorsday, couldnt, come, at, a, better, time, to, unite, and, recognize, the, incredi...  \n",
       "1  [httpstcorsxnvywv, la, gente, necesita, desinfectantes, respiradores, ffp, guantes, de, nitrilo,...  \n",
       "2  [日本の月日までのデータからのロジスティック曲線での感染者推移予測です, nn政策等の影響で大きく変化する可能性があります, 現状のままだとという予測ですね, nn最新のハイレベルな予測はいろ...  \n",
       "4  [covid, covid, gretathunberg, s, visionoffuture, for, earth, fridaysforfuture, fridaysforhubraum...  \n",
       "5  [cnn, stands, forncommunist, news, networknnchinesevirus, ncovid, ncommunistchina, httpstcoimlor...  "
      ]
     },
     "execution_count": 62,
     "metadata": {},
     "output_type": "execute_result"
    }
   ],
   "source": [
    "def tokenization(text):\n",
    "    text = re.split('\\W+', text)\n",
    "    return text\n",
    "\n",
    "df['Tweet_tokenized'] = df['Tweet_punct'].apply(lambda x: tokenization(x.lower()))\n",
    "df.head()"
   ]
  },
  {
   "cell_type": "code",
   "execution_count": null,
   "id": "lovely-nickel",
   "metadata": {},
   "outputs": [],
   "source": []
  }
 ],
 "metadata": {
  "kernelspec": {
   "display_name": "Python 3",
   "language": "python",
   "name": "python3"
  },
  "language_info": {
   "codemirror_mode": {
    "name": "ipython",
    "version": 3
   },
   "file_extension": ".py",
   "mimetype": "text/x-python",
   "name": "python",
   "nbconvert_exporter": "python",
   "pygments_lexer": "ipython3",
   "version": "3.9.2"
  }
 },
 "nbformat": 4,
 "nbformat_minor": 5
}
